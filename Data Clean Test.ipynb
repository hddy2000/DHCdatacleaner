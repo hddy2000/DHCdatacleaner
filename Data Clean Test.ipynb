{
 "cells": [
  {
   "cell_type": "code",
   "execution_count": 1,
   "metadata": {
    "collapsed": false
   },
   "outputs": [],
   "source": [
    "#--coding:utf-8--\n",
    "import DHCdatacleaner\n",
    "import pandas as pd\n",
    "import numpy as np"
   ]
  },
  {
   "cell_type": "code",
   "execution_count": 63,
   "metadata": {
    "collapsed": false
   },
   "outputs": [
    {
     "name": "stdout",
     "output_type": "stream",
     "text": [
      "Help on module DHCdatacleaner.categorical in DHCdatacleaner:\n",
      "\n",
      "NAME\n",
      "    DHCdatacleaner.categorical - Copyright (c) 2018 Eddie Yi Huang\n",
      "\n",
      "FILE\n",
      "    /Users/huangyi-mac/Documents/Data-Analysis/DHCdatacleaner/DHCdatacleaner/categorical.py\n",
      "\n",
      "DESCRIPTION\n",
      "    Permission is hereby granted, free of charge, to any person obtaining a copy of this software\n",
      "    and associated documentation files (the \"Software\"), to deal in the Software without restriction,\n",
      "    including without limitation the rights to use, copy, modify, merge, publish, distribute, sublicense,\n",
      "    and/or sell copies of the Software, and to permit persons to whom the Software is furnished to do so,\n",
      "    subject to the following conditions:\n",
      "    \n",
      "    The above copyright notice and this permission notice shall be included in all copies or substantial\n",
      "    portions of the Software.\n",
      "    \n",
      "    THE SOFTWARE IS PROVIDED \"AS IS\", WITHOUT WARRANTY OF ANY KIND, EXPRESS OR IMPLIED, INCLUDING BUT NOT\n",
      "    LIMITED TO THE WARRANTIES OF MERCHANTABILITY, FITNESS FOR A PARTICULAR PURPOSE AND NONINFRINGEMENT.\n",
      "    IN NO EVENT SHALL THE AUTHORS OR COPYRIGHT HOLDERS BE LIABLE FOR ANY CLAIM, DAMAGES OR OTHER LIABILITY,\n",
      "    WHETHER IN AN ACTION OF CONTRACT, TORT OR OTHERWISE, ARISING FROM, OUT OF OR IN CONNECTION WITH THE\n",
      "    SOFTWARE OR THE USE OR OTHER DEALINGS IN THE SOFTWARE.\n",
      "\n",
      "FUNCTIONS\n",
      "    missing_value_clean(input_dataframe, sel_cols, drop_nans=False, method='mode', copy=False)\n",
      "        Performs a series of automated data cleaning transformations on the provided data set\n",
      "        \n",
      "        Parameters\n",
      "        ----------\n",
      "        input_dataframe: pandas.DataFrame\n",
      "            Data set to clean\n",
      "        sel_cols:\n",
      "            Categorical columns selected\n",
      "        drop_nans: bool\n",
      "            Drop all rows that have a NaN in any column (default: False)\n",
      "        method:string\n",
      "            Method used, can be {'mode','bffill'}\n",
      "        copy: bool\n",
      "            Make a copy of the data set (default: False)\n",
      "        Returns\n",
      "        ----------\n",
      "        output_dataframe: pandas.DataFrame\n",
      "            Cleaned data set\n",
      "    \n",
      "    one_hot_derive()\n",
      "    \n",
      "    word_num_encode(input_dataframe, sel_cols, copy=False, encoder=None, encoder_kwargs=None)\n",
      "        Performs a series of automated data cleaning transformations on the provided data set\n",
      "        \n",
      "        Parameters\n",
      "        ----------\n",
      "        input_dataframe: pandas.DataFrame\n",
      "            Data set to clean\n",
      "        sel_cols: list\n",
      "            Categorical columns selected\n",
      "        copy: bool\n",
      "            Make a copy of the data set (default: False)\n",
      "        encoder: category_encoders transformer\n",
      "            The a valid category_encoders transformer which is passed an inferred cols list. Default (None: LabelEncoder)\n",
      "        encoder_kwargs: category_encoders\n",
      "            The a valid sklearn transformer to encode categorical features. Default (None)\n",
      "        \n",
      "        Returns\n",
      "        ----------\n",
      "        output_dataframe: pandas.DataFrame\n",
      "            Cleaned data set\n",
      "\n",
      "DATA\n",
      "    print_function = _Feature((2, 6, 0, 'alpha', 2), (3, 0, 0, 'alpha', 0)...\n",
      "    update_checked = False\n",
      "\n",
      "\n"
     ]
    }
   ],
   "source": [
    "help(DHCdatacleaner.categorical)"
   ]
  },
  {
   "cell_type": "code",
   "execution_count": 27,
   "metadata": {
    "collapsed": false,
    "scrolled": false
   },
   "outputs": [
    {
     "name": "stdout",
     "output_type": "stream",
     "text": [
      "53203\n"
     ]
    }
   ],
   "source": [
    "data=pd.read_csv('caichao3.0.csv',encoding='gbk')\n",
    "# print data.head(5)\n",
    "print len(data)"
   ]
  },
  {
   "cell_type": "code",
   "execution_count": 4,
   "metadata": {
    "collapsed": false,
    "scrolled": true
   },
   "outputs": [
    {
     "name": "stdout",
     "output_type": "stream",
     "text": [
      "continuous: 0     Unnamed: 0\n",
      "1             年龄\n",
      "2           孕妇身高\n",
      "3           孕妇体重\n",
      "4           孕妇腹围\n",
      "5           孕妇宫高\n",
      "6          体重量增加\n",
      "7            BPD\n",
      "8            OFD\n",
      "9             HC\n",
      "10            AC\n",
      "11            FL\n",
      "12           AFI\n",
      "13           S/D\n",
      "14            PI\n",
      "15         计孕周重置\n",
      "16       胎盘直径new\n",
      "17       胎盘厚度new\n",
      "18            孕次\n",
      "19            产次\n",
      "20         新生儿体重\n",
      "dtype: object\n",
      "categorical: 0     主要诊断\n",
      "1     次要诊断\n",
      "2    新生儿性别\n",
      "dtype: object\n"
     ]
    }
   ],
   "source": [
    "con,cat=DHCdatacleaner.utils.auto_sel_cols(data)"
   ]
  },
  {
   "cell_type": "code",
   "execution_count": null,
   "metadata": {
    "collapsed": false
   },
   "outputs": [],
   "source": [
    "#用function_derive给特征分组\n",
    "def change(x):\n",
    "    if x>20 and x<=30:\n",
    "        y=1\n",
    "    elif x>30:\n",
    "        y=2\n",
    "    else:\n",
    "        y=0\n",
    "    return y\n",
    "    \n",
    "new=DHCdatacleaner.function_derive(data,function=change,sel_cols=[u'年龄',u'年龄'],new_cols=[u'年龄new',u'年龄new2'])"
   ]
  },
  {
   "cell_type": "code",
   "execution_count": 16,
   "metadata": {
    "collapsed": false
   },
   "outputs": [
    {
     "ename": "NameError",
     "evalue": "name 'new' is not defined",
     "output_type": "error",
     "traceback": [
      "\u001b[0;31m---------------------------------------------------------------------------\u001b[0m",
      "\u001b[0;31mNameError\u001b[0m                                 Traceback (most recent call last)",
      "\u001b[0;32m<ipython-input-16-a51277ff7e8f>\u001b[0m in \u001b[0;36m<module>\u001b[0;34m()\u001b[0m\n\u001b[0;32m----> 1\u001b[0;31m \u001b[0mnew\u001b[0m\u001b[0;34m[\u001b[0m\u001b[0mcat\u001b[0m\u001b[0;34m]\u001b[0m\u001b[0;34m\u001b[0m\u001b[0m\n\u001b[0m",
      "\u001b[0;31mNameError\u001b[0m: name 'new' is not defined"
     ]
    }
   ],
   "source": [
    "new[cat]"
   ]
  },
  {
   "cell_type": "code",
   "execution_count": 7,
   "metadata": {
    "collapsed": false
   },
   "outputs": [
    {
     "name": "stdout",
     "output_type": "stream",
     "text": [
      "columns to clean:\n",
      "主要诊断 missing percentage: 0.0\n",
      "mode fill is used\n",
      "次要诊断 missing percentage: 0.0\n",
      "mode fill is used\n",
      "新生儿性别 missing percentage: 0.0\n",
      "mode fill is used\n",
      "Done!\n",
      "53203\n"
     ]
    }
   ],
   "source": [
    "data2=DHCdatacleaner.categorical.missing_value_clean(input_dataframe=data,sel_cols=cat,copy=True)\n",
    "print len(data2)"
   ]
  },
  {
   "cell_type": "code",
   "execution_count": null,
   "metadata": {
    "collapsed": false,
    "scrolled": true
   },
   "outputs": [],
   "source": [
    "data2=DHCdatacleaner.continuous.missing_value_clean(input_dataframe=data,method='median',sel_cols=con,copy=True)"
   ]
  },
  {
   "cell_type": "code",
   "execution_count": null,
   "metadata": {
    "collapsed": false
   },
   "outputs": [],
   "source": [
    "print len(data2)"
   ]
  },
  {
   "cell_type": "code",
   "execution_count": null,
   "metadata": {
    "collapsed": false
   },
   "outputs": [],
   "source": [
    "#极端值替代操作\n",
    "data3=DHCdatacleaner.continuous.outlier_detect_clean(input_dataframe=data,sel_cols=[u'BPD',u'HC'],method='mean',copy=True,action='replace')\n",
    "print len(data3)"
   ]
  },
  {
   "cell_type": "code",
   "execution_count": null,
   "metadata": {
    "collapsed": false
   },
   "outputs": [],
   "source": [
    "#极端值删除操作\n",
    "data2=DHCdatacleaner.continuous.outlier_detect_clean(input_dataframe=data,sel_cols=[u'BPD',u'HC'],method='mean',copy=True,action='delete')\n",
    "print len(data2)"
   ]
  },
  {
   "cell_type": "code",
   "execution_count": null,
   "metadata": {
    "collapsed": false
   },
   "outputs": [],
   "source": [
    "clean_data=DHCdatacleaner.categorical.word_num_encode(input_dataframe=data2,sel_cols=cat,copy=True)"
   ]
  },
  {
   "cell_type": "code",
   "execution_count": null,
   "metadata": {
    "collapsed": false
   },
   "outputs": [],
   "source": [
    "print clean_data.head(5)\n",
    "print len(clean_data)"
   ]
  },
  {
   "cell_type": "code",
   "execution_count": null,
   "metadata": {
    "collapsed": false
   },
   "outputs": [],
   "source": [
    "clean_data[cat]"
   ]
  },
  {
   "cell_type": "code",
   "execution_count": null,
   "metadata": {
    "collapsed": false
   },
   "outputs": [],
   "source": []
  },
  {
   "cell_type": "code",
   "execution_count": null,
   "metadata": {
    "collapsed": true
   },
   "outputs": [],
   "source": []
  }
 ],
 "metadata": {
  "kernelspec": {
   "display_name": "Python 2",
   "language": "python",
   "name": "python2"
  },
  "language_info": {
   "codemirror_mode": {
    "name": "ipython",
    "version": 2
   },
   "file_extension": ".py",
   "mimetype": "text/x-python",
   "name": "python",
   "nbconvert_exporter": "python",
   "pygments_lexer": "ipython2",
   "version": "2.7.13"
  }
 },
 "nbformat": 4,
 "nbformat_minor": 2
}
