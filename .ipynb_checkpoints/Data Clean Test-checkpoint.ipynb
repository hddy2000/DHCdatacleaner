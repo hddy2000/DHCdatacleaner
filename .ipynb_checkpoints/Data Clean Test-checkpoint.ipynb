{
 "cells": [
  {
   "cell_type": "code",
   "execution_count": 1,
   "metadata": {
    "collapsed": false
   },
   "outputs": [],
   "source": [
    "#--coding:utf-8--\n",
    "import DHCdatacleaner\n",
    "import pandas as pd\n",
    "import numpy as np"
   ]
  },
  {
   "cell_type": "code",
   "execution_count": null,
   "metadata": {
    "collapsed": false
   },
   "outputs": [],
   "source": [
    "help(DHCdatacleaner)"
   ]
  },
  {
   "cell_type": "code",
   "execution_count": 27,
   "metadata": {
    "collapsed": false,
    "scrolled": false
   },
   "outputs": [
    {
     "name": "stdout",
     "output_type": "stream",
     "text": [
      "53203\n"
     ]
    }
   ],
   "source": [
    "data=pd.read_csv('caichao3.0.csv',encoding='gbk')\n",
    "# print data.head(5)\n",
    "print len(data)"
   ]
  },
  {
   "cell_type": "code",
   "execution_count": 4,
   "metadata": {
    "collapsed": false,
    "scrolled": true
   },
   "outputs": [
    {
     "name": "stdout",
     "output_type": "stream",
     "text": [
      "continuous: 0     Unnamed: 0\n",
      "1             年龄\n",
      "2           孕妇身高\n",
      "3           孕妇体重\n",
      "4           孕妇腹围\n",
      "5           孕妇宫高\n",
      "6          体重量增加\n",
      "7            BPD\n",
      "8            OFD\n",
      "9             HC\n",
      "10            AC\n",
      "11            FL\n",
      "12           AFI\n",
      "13           S/D\n",
      "14            PI\n",
      "15         计孕周重置\n",
      "16       胎盘直径new\n",
      "17       胎盘厚度new\n",
      "18            孕次\n",
      "19            产次\n",
      "20         新生儿体重\n",
      "dtype: object\n",
      "categorical: 0     主要诊断\n",
      "1     次要诊断\n",
      "2    新生儿性别\n",
      "dtype: object\n"
     ]
    }
   ],
   "source": [
    "con,cat=DHCdatacleaner.utils.auto_sel_cols(data)"
   ]
  },
  {
   "cell_type": "code",
   "execution_count": null,
   "metadata": {
    "collapsed": false
   },
   "outputs": [],
   "source": [
    "#用function_derive给特征分组\n",
    "def change(x):\n",
    "    if x>20 and x<=30:\n",
    "        y=1\n",
    "    elif x>30:\n",
    "        y=2\n",
    "    else:\n",
    "        y=0\n",
    "    return y\n",
    "    \n",
    "new=DHCdatacleaner.function_derive(data,function=change,sel_cols=[u'年龄',u'年龄'],new_cols=[u'年龄new',u'年龄new2'])"
   ]
  },
  {
   "cell_type": "code",
   "execution_count": 16,
   "metadata": {
    "collapsed": false
   },
   "outputs": [
    {
     "ename": "NameError",
     "evalue": "name 'new' is not defined",
     "output_type": "error",
     "traceback": [
      "\u001b[0;31m---------------------------------------------------------------------------\u001b[0m",
      "\u001b[0;31mNameError\u001b[0m                                 Traceback (most recent call last)",
      "\u001b[0;32m<ipython-input-16-a51277ff7e8f>\u001b[0m in \u001b[0;36m<module>\u001b[0;34m()\u001b[0m\n\u001b[0;32m----> 1\u001b[0;31m \u001b[0mnew\u001b[0m\u001b[0;34m[\u001b[0m\u001b[0mcat\u001b[0m\u001b[0;34m]\u001b[0m\u001b[0;34m\u001b[0m\u001b[0m\n\u001b[0m",
      "\u001b[0;31mNameError\u001b[0m: name 'new' is not defined"
     ]
    }
   ],
   "source": [
    "new[cat]"
   ]
  },
  {
   "cell_type": "code",
   "execution_count": 7,
   "metadata": {
    "collapsed": false
   },
   "outputs": [
    {
     "name": "stdout",
     "output_type": "stream",
     "text": [
      "columns to clean:\n",
      "主要诊断 missing percentage: 0.0\n",
      "mode fill is used\n",
      "次要诊断 missing percentage: 0.0\n",
      "mode fill is used\n",
      "新生儿性别 missing percentage: 0.0\n",
      "mode fill is used\n",
      "Done!\n",
      "53203\n"
     ]
    }
   ],
   "source": [
    "data2=DHCdatacleaner.categorical.missing_value_clean(input_dataframe=data,sel_cols=cat,copy=True)\n",
    "print len(data2)"
   ]
  },
  {
   "cell_type": "code",
   "execution_count": null,
   "metadata": {
    "collapsed": false,
    "scrolled": true
   },
   "outputs": [],
   "source": [
    "data2=DHCdatacleaner.continuous.missing_value_clean(input_dataframe=data,method='median',sel_cols=con,copy=True)"
   ]
  },
  {
   "cell_type": "code",
   "execution_count": null,
   "metadata": {
    "collapsed": false
   },
   "outputs": [],
   "source": [
    "print len(data2)"
   ]
  },
  {
   "cell_type": "code",
   "execution_count": null,
   "metadata": {
    "collapsed": false
   },
   "outputs": [],
   "source": [
    "#极端值替代操作\n",
    "data3=DHCdatacleaner.continuous.outlier_detect_clean(input_dataframe=data,sel_cols=[u'BPD',u'HC'],method='mean',copy=True,action='replace')\n",
    "print len(data3)"
   ]
  },
  {
   "cell_type": "code",
   "execution_count": null,
   "metadata": {
    "collapsed": false
   },
   "outputs": [],
   "source": [
    "#极端值删除操作\n",
    "data2=DHCdatacleaner.continuous.outlier_detect_clean(input_dataframe=data,sel_cols=[u'BPD',u'HC'],method='mean',copy=True,action='delete')\n",
    "print len(data2)"
   ]
  },
  {
   "cell_type": "code",
   "execution_count": null,
   "metadata": {
    "collapsed": false
   },
   "outputs": [],
   "source": [
    "clean_data=DHCdatacleaner.categorical.word_num_encode(input_dataframe=data2,sel_cols=cat,copy=True)"
   ]
  },
  {
   "cell_type": "code",
   "execution_count": null,
   "metadata": {
    "collapsed": false
   },
   "outputs": [],
   "source": [
    "print clean_data.head(5)\n",
    "print len(clean_data)"
   ]
  },
  {
   "cell_type": "code",
   "execution_count": null,
   "metadata": {
    "collapsed": false
   },
   "outputs": [],
   "source": [
    "clean_data[cat]"
   ]
  },
  {
   "cell_type": "code",
   "execution_count": null,
   "metadata": {
    "collapsed": false
   },
   "outputs": [],
   "source": []
  },
  {
   "cell_type": "code",
   "execution_count": null,
   "metadata": {
    "collapsed": true
   },
   "outputs": [],
   "source": []
  }
 ],
 "metadata": {
  "kernelspec": {
   "display_name": "Python 2",
   "language": "python",
   "name": "python2"
  },
  "language_info": {
   "codemirror_mode": {
    "name": "ipython",
    "version": 2
   },
   "file_extension": ".py",
   "mimetype": "text/x-python",
   "name": "python",
   "nbconvert_exporter": "python",
   "pygments_lexer": "ipython2",
   "version": "2.7.13"
  }
 },
 "nbformat": 4,
 "nbformat_minor": 2
}
